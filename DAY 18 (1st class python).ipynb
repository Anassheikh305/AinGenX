{
 "cells": [
  {
   "cell_type": "code",
   "execution_count": 1,
   "id": "be00aa34-df39-4ca2-8738-e04a494a0734",
   "metadata": {},
   "outputs": [
    {
     "name": "stdout",
     "output_type": "stream",
     "text": [
      "Hello\n"
     ]
    }
   ],
   "source": [
    "#code cell\n",
    "print(\"Hello\")"
   ]
  },
  {
   "cell_type": "code",
   "execution_count": 3,
   "id": "303d0a49-1b71-4a5e-bfbd-6ba825a347cb",
   "metadata": {},
   "outputs": [],
   "source": [
    "#variables and data types\n",
    "#string\n",
    "#reproductiviy\n",
    "name = \"Anas\""
   ]
  },
  {
   "cell_type": "code",
   "execution_count": 5,
   "id": "a11bde27-63b1-443b-9b0d-722abf1b61c1",
   "metadata": {},
   "outputs": [
    {
     "name": "stdout",
     "output_type": "stream",
     "text": [
      "Python is Fun\n"
     ]
    }
   ],
   "source": [
    "string1 = \"Python is Fun\"\n",
    "print(string1)"
   ]
  },
  {
   "cell_type": "code",
   "execution_count": 7,
   "id": "c9f61084-1270-4020-9f12-fdc85937b011",
   "metadata": {},
   "outputs": [
    {
     "name": "stdout",
     "output_type": "stream",
     "text": [
      "test\n",
      "Python is Fun\n"
     ]
    }
   ],
   "source": [
    "string2 = \"test\"\n",
    "print(string2)\n",
    "print(string1)"
   ]
  },
  {
   "cell_type": "code",
   "execution_count": 21,
   "id": "95939feb-766e-4044-b071-c637f1605dad",
   "metadata": {},
   "outputs": [
    {
     "data": {
      "text/plain": [
       "'Fun'"
      ]
     },
     "execution_count": 21,
     "metadata": {},
     "output_type": "execute_result"
    }
   ],
   "source": [
    "#indexing\n",
    "#python follow zero base indexing\n",
    "string1[0:5]\n",
    "string1[2:]\n",
    "\n",
    "#backward indexing = -1\n",
    "new_string = \"python\"\n",
    "new_string[-1]\n",
    "string1[-3:]"
   ]
  },
  {
   "cell_type": "code",
   "execution_count": 25,
   "id": "9772227e-845e-4baf-b174-d94a11e05ed7",
   "metadata": {},
   "outputs": [
    {
     "name": "stdout",
     "output_type": "stream",
     "text": [
      "7.5\n"
     ]
    }
   ],
   "source": [
    "#int\n",
    "number1 = 15\n",
    "\n",
    "# print(number1)\n",
    "print(number1/2)"
   ]
  },
  {
   "cell_type": "code",
   "execution_count": 27,
   "id": "f6d9fc03-5d59-46dc-84ba-5c940d426743",
   "metadata": {},
   "outputs": [
    {
     "data": {
      "text/plain": [
       "7"
      ]
     },
     "execution_count": 27,
     "metadata": {},
     "output_type": "execute_result"
    }
   ],
   "source": [
    "number1 // 2"
   ]
  },
  {
   "cell_type": "code",
   "execution_count": 31,
   "id": "9cb48a6e-2876-48b2-bd98-c300219e2690",
   "metadata": {},
   "outputs": [
    {
     "data": {
      "text/plain": [
       "0"
      ]
     },
     "execution_count": 31,
     "metadata": {},
     "output_type": "execute_result"
    }
   ],
   "source": [
    "number1 % 3"
   ]
  },
  {
   "cell_type": "code",
   "execution_count": 33,
   "id": "12a1bc23-9e07-48d7-b6d3-5681c64d1f86",
   "metadata": {},
   "outputs": [
    {
     "name": "stdout",
     "output_type": "stream",
     "text": [
      "20\n"
     ]
    }
   ],
   "source": [
    "print(10 + 5 *2)"
   ]
  },
  {
   "cell_type": "code",
   "execution_count": 39,
   "id": "26f3cf77-ebb4-446f-82e3-d7878bc6349a",
   "metadata": {},
   "outputs": [
    {
     "data": {
      "text/plain": [
       "'Anas Sheikh'"
      ]
     },
     "execution_count": 39,
     "metadata": {},
     "output_type": "execute_result"
    }
   ],
   "source": [
    "#string concatenation\n",
    "# first_name = \"Anas\"\n",
    "# last_name = \"Sheikh\"\n",
    "\n",
    "first_name + \" \" + last_name"
   ]
  },
  {
   "cell_type": "code",
   "execution_count": 43,
   "id": "4bdf1c2e-d7f1-4c9c-89a4-e6139fc26a4b",
   "metadata": {},
   "outputs": [],
   "source": [
    "#bolean  true/false\n",
    "\n",
    "today = True\n",
    "yesterday = False"
   ]
  },
  {
   "cell_type": "code",
   "execution_count": 47,
   "id": "a2c5c2bc-5835-4754-a754-2ebb62a58cdc",
   "metadata": {},
   "outputs": [
    {
     "name": "stdout",
     "output_type": "stream",
     "text": [
      "False\n"
     ]
    }
   ],
   "source": [
    "print(today & yesterday)"
   ]
  },
  {
   "cell_type": "code",
   "execution_count": 49,
   "id": "5750eb14-7978-4cc1-ab06-0ea07e003ef9",
   "metadata": {},
   "outputs": [
    {
     "name": "stdout",
     "output_type": "stream",
     "text": [
      "True\n"
     ]
    }
   ],
   "source": [
    "print(today or yesterday)"
   ]
  },
  {
   "cell_type": "code",
   "execution_count": 51,
   "id": "23e5b819-b214-4ece-be9d-de71cd8ee25a",
   "metadata": {},
   "outputs": [
    {
     "data": {
      "text/plain": [
       "False"
      ]
     },
     "execution_count": 51,
     "metadata": {},
     "output_type": "execute_result"
    }
   ],
   "source": [
    "10 < 5"
   ]
  },
  {
   "cell_type": "code",
   "execution_count": 53,
   "id": "95d48cf0-3832-4f86-a369-489ac6c95a83",
   "metadata": {},
   "outputs": [
    {
     "data": {
      "text/plain": [
       "False"
      ]
     },
     "execution_count": 53,
     "metadata": {},
     "output_type": "execute_result"
    }
   ],
   "source": [
    "#comparision operator\n",
    "10 == 100"
   ]
  },
  {
   "cell_type": "code",
   "execution_count": 55,
   "id": "98cb0738-e962-45b2-94bd-653043e62b9d",
   "metadata": {},
   "outputs": [],
   "source": [
    "#create a variable andstore an int\n",
    "#using comparision operator or >,<\n",
    "#return true or false"
   ]
  },
  {
   "cell_type": "code",
   "execution_count": 65,
   "id": "b6b5e89e-04ff-4f88-9847-83ac8089d878",
   "metadata": {},
   "outputs": [
    {
     "name": "stdout",
     "output_type": "stream",
     "text": [
      "True\n",
      "False\n",
      "False\n"
     ]
    }
   ],
   "source": [
    "a = 20\n",
    "\n",
    "print(a<300)\n",
    "print(a>300)\n",
    "print(a==300)"
   ]
  },
  {
   "cell_type": "code",
   "execution_count": 67,
   "id": "35dafb4c-0fc8-4106-939a-8f1ea2bdcba7",
   "metadata": {},
   "outputs": [
    {
     "data": {
      "text/plain": [
       "True"
      ]
     },
     "execution_count": 67,
     "metadata": {},
     "output_type": "execute_result"
    }
   ],
   "source": [
    "b = 257\n",
    "(b > 200) & (b < 400)"
   ]
  },
  {
   "cell_type": "code",
   "execution_count": 77,
   "id": "88349524-fa9a-4b21-ad52-78a5079ee2ec",
   "metadata": {},
   "outputs": [
    {
     "name": "stdout",
     "output_type": "stream",
     "text": [
      "My name is Anas and I am 28 year old\n"
     ]
    }
   ],
   "source": [
    "#challenge\n",
    "first_name = \"Anas\"\n",
    "age = 28\n",
    "print(\"My name is \" + first_name + \" and I am \" + str(age) + \" year old\")"
   ]
  },
  {
   "cell_type": "code",
   "execution_count": 79,
   "id": "2140a4de-9f2b-4ce6-a995-3b7f9e3b57ca",
   "metadata": {},
   "outputs": [
    {
     "name": "stdout",
     "output_type": "stream",
     "text": [
      "My name is  Anas  and I am  28  year old\n"
     ]
    }
   ],
   "source": [
    "print(\"My name is \" , first_name , \" and I am \" , str(age) , \" year old\")"
   ]
  },
  {
   "cell_type": "code",
   "execution_count": 81,
   "id": "572ab269-00d2-4835-8205-c4a3d5472f8b",
   "metadata": {},
   "outputs": [
    {
     "name": "stdout",
     "output_type": "stream",
     "text": [
      "My name is Anas and I am 28 year old\n"
     ]
    }
   ],
   "source": [
    "#f string\n",
    "print(f\"My name is {first_name} and I am {age} year old\")"
   ]
  },
  {
   "cell_type": "code",
   "execution_count": 97,
   "id": "ed1f00bd-7bb1-432d-8ea5-77d9f56591a0",
   "metadata": {},
   "outputs": [
    {
     "name": "stdout",
     "output_type": "stream",
     "text": [
      "i'm thinking of a number between 1 and 10\n"
     ]
    },
    {
     "name": "stdin",
     "output_type": "stream",
     "text": [
      "can u guess the number ?  5\n"
     ]
    },
    {
     "name": "stdout",
     "output_type": "stream",
     "text": [
      "Number is Too loo.Try Again.\n"
     ]
    },
    {
     "name": "stdin",
     "output_type": "stream",
     "text": [
      "can u guess the number ?  6\n"
     ]
    },
    {
     "name": "stdout",
     "output_type": "stream",
     "text": [
      "Congratulations! You guesses the right number\n"
     ]
    }
   ],
   "source": [
    "import random  # Import the random module\n",
    "\n",
    "# COMPUTER CHOOSES A RANDOM NUMBER BETWEEN 1 AND 10\n",
    "mystery_number = random.randint(1, 10)\n",
    "\n",
    "print(\"i'm thinking of a number between 1 and 10\")\n",
    "#Allow upto 3 attempts\n",
    "for attempt in range(3):\n",
    "    #ASK THE USER TO GUESS THE NUMBER\n",
    "    user_guess = int(input(\"can u guess the number ? \"))\n",
    "    if user_guess == mystery_number:\n",
    "        print(\"Congratulations! You guesses the right number\")\n",
    "        break # Exit the loop if the guess is Correct\n",
    "    else:\n",
    "        if user_guess < mystery_number:\n",
    "            print(\"Number is Too loo.Try Again.\")\n",
    "        elif user_guess > mystery_number:\n",
    "            print(\"Number is Too High.Try Agian.\")\n",
    "        if attempt == 2: #last attempt feedback\n",
    "            print(f\"Sorry the correct answer was {mystery_number}\")\n",
    "    "
   ]
  },
  {
   "cell_type": "code",
   "execution_count": 89,
   "id": "452cf435-ea61-4fa1-a626-a96ea4fc31cb",
   "metadata": {},
   "outputs": [
    {
     "name": "stdout",
     "output_type": "stream",
     "text": [
      "Lower than 10\n"
     ]
    }
   ],
   "source": [
    "#if/else\n",
    "\n",
    "new_no = 8\n",
    "if new_no > 10:\n",
    "    print(\"Greator than 10\")\n",
    "else:\n",
    "    print(\"Lower than 10\""
   ]
  },
  {
   "cell_type": "code",
   "execution_count": 91,
   "id": "9a60cff3-8f52-42c2-b7f8-a60c227d3878",
   "metadata": {},
   "outputs": [
    {
     "name": "stdout",
     "output_type": "stream",
     "text": [
      "0\n",
      "1\n",
      "2\n",
      "3\n",
      "4\n",
      "5\n",
      "6\n",
      "7\n",
      "8\n",
      "9\n"
     ]
    }
   ],
   "source": [
    "#for loop\n",
    "for item in range(10):\n",
    "    print(item)"
   ]
  },
  {
   "cell_type": "code",
   "execution_count": null,
   "id": "fdacffb3-949b-496b-a915-981f88cea70b",
   "metadata": {},
   "outputs": [],
   "source": []
  }
 ],
 "metadata": {
  "kernelspec": {
   "display_name": "Python 3 (ipykernel)",
   "language": "python",
   "name": "python3"
  },
  "language_info": {
   "codemirror_mode": {
    "name": "ipython",
    "version": 3
   },
   "file_extension": ".py",
   "mimetype": "text/x-python",
   "name": "python",
   "nbconvert_exporter": "python",
   "pygments_lexer": "ipython3",
   "version": "3.12.4"
  }
 },
 "nbformat": 4,
 "nbformat_minor": 5
}
